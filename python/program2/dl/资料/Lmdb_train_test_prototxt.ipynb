{
 "cells": [
  {
   "cell_type": "code",
   "execution_count": 2,
   "metadata": {},
   "outputs": [],
   "source": [
    "# -*- coding: utf-8 -*-\n",
    "from caffe import layers as L,params as P,to_proto\n",
    "path=u'/media/alsun/娱乐/debian/Study/'   #保存数据和配置文件的路径\n",
    "train_lmdb=path+'train_db'             #训练数据LMDB文件的位置\n",
    "val_lmdb=path+'val_db'                    #验证数据LMDB文件的位置\n",
    "mean_file=path+'mean.binaryproto'         #均值文件的位置\n",
    "train_proto=path+'train.prototxt'         #生成的训练配置文件保存的位置\n",
    "val_proto=path+'val.prototxt'             #生成的验证配置文件保存的位置\n",
    "#编写一个函数，用于生成网络\n",
    "def create_net(lmdb,batch_size,include_acc=False):\n",
    "    #创建第一层：数据层。向上传递两类数据：图片数据和对应的标签\n",
    "    data, label = L.Data(source=lmdb, backend=P.Data.LMDB, batch_size=batch_size, ntop=2,\n",
    "        transform_param=dict(crop_size=40,mean_file=mean_file,mirror=True))\n",
    "    #创建第二屋：卷积层\n",
    "    conv1=L.Convolution(data, kernel_size=5, stride=1,num_output=16, pad=2,weight_filler=dict(type='xavier'))\n",
    "    #创建激活函数层\n",
    "    relu1=L.ReLU(conv1, in_place=True)\n",
    "    #创建池化层\n",
    "    pool1=L.Pooling(relu1, pool=P.Pooling.MAX, kernel_size=3, stride=2)\n",
    "    conv2=L.Convolution(pool1, kernel_size=3, stride=1,num_output=32, pad=1,weight_filler=dict(type='xavier'))\n",
    "    relu2=L.ReLU(conv2, in_place=True)\n",
    "    pool2=L.Pooling(relu2, pool=P.Pooling.MAX, kernel_size=3, stride=2)\n",
    "    #创建一个全连接层\n",
    "    fc3=L.InnerProduct(pool2, num_output=1024,weight_filler=dict(type='xavier'))\n",
    "    relu3=L.ReLU(fc3, in_place=True)\n",
    "    #创建一个dropout层\n",
    "    drop3 = L.Dropout(relu3, in_place=True)\n",
    "    fc4 = L.InnerProduct(drop3, num_output=10,weight_filler=dict(type='xavier'))\n",
    "    #创建一个softmax层\n",
    "    loss = L.SoftmaxWithLoss(fc4, label)\n",
    "    if include_acc:             #在训练阶段，不需要accuracy层，但是在验证阶段，是需要的\n",
    "        acc = L.Accuracy(fc4, label)\n",
    "        return to_proto(loss, acc)\n",
    "    else:\n",
    "        return to_proto(loss)\n",
    "def write_net():\n",
    "    #将以上的设置写入到prototxt文件\n",
    "    with open(train_proto, 'w') as f:\n",
    "        f.write(str(create_net(train_lmdb,batch_size=64)))\n",
    "    #写入配置文件    \n",
    "    with open(val_proto, 'w') as f:\n",
    "        f.write(str(create_net(val_lmdb,batch_size=32, include_acc=True)))   \n",
    "if __name__ == '__main__':\n",
    "    write_net()"
   ]
  },
  {
   "cell_type": "code",
   "execution_count": null,
   "metadata": {
    "collapsed": true
   },
   "outputs": [],
   "source": []
  }
 ],
 "metadata": {
  "kernelspec": {
   "display_name": "Python 2",
   "language": "python",
   "name": "python2"
  },
  "language_info": {
   "codemirror_mode": {
    "name": "ipython",
    "version": 2
   },
   "file_extension": ".py",
   "mimetype": "text/x-python",
   "name": "python",
   "nbconvert_exporter": "python",
   "pygments_lexer": "ipython2",
   "version": "2.7.9"
  }
 },
 "nbformat": 4,
 "nbformat_minor": 2
}
