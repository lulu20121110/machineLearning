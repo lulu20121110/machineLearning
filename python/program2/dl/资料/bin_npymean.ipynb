{
 "cells": [
  {
   "cell_type": "code",
   "execution_count": null,
   "metadata": {
    "collapsed": true
   },
   "outputs": [],
   "source": [
    "#!/usr/bin/env python\n",
    "import numpy as np\n",
    "import sys,caffe\n",
    "if len(sys.argv)!=3:\n",
    "    print \"Usage: python convert_mean.py mean.binaryproto mean.npy\"\n",
    "    sys.exit()\n",
    "blob = caffe.proto.caffe_pb2.BlobProto()\n",
    "bin_mean = open( sys.argv[1] , 'rb' ).read()\n",
    "blob.ParseFromString(bin_mean)\n",
    "arr = np.array( caffe.io.blobproto_to_array(blob) )\n",
    "npy_mean = arr[0]\n",
    "np.save( sys.argv[2] , npy_mean )\n",
    "# sudo python convert_mean.py mean.binaryproto mean.npy\n"
   ]
  }
 ],
 "metadata": {
  "kernelspec": {
   "display_name": "Python 2",
   "language": "python",
   "name": "python2"
  },
  "language_info": {
   "codemirror_mode": {
    "name": "ipython",
    "version": 2
   },
   "file_extension": ".py",
   "mimetype": "text/x-python",
   "name": "python",
   "nbconvert_exporter": "python",
   "pygments_lexer": "ipython2",
   "version": "2.7.9"
  }
 },
 "nbformat": 4,
 "nbformat_minor": 2
}
