{
 "cells": [
  {
   "cell_type": "code",
   "execution_count": 2,
   "metadata": {},
   "outputs": [],
   "source": [
    "# -*- coding: utf-8 -*-\n",
    "from caffe import layers as L,params as P,to_proto\n",
    "\n",
    "path=u'/media/alsun/娱乐/debian/Study/' \n",
    "train_list=path+'train.txt'\n",
    "val_list=path+'val.txt'           \n",
    "train_proto=path+'train.prototxt'   \n",
    "val_proto=path+'val.prototxt'       \n",
    "def create_net(img_list,batch_size,include_acc=False):\n",
    "    data,label=L.ImageData(source=img_list,batch_size=batch_size,new_width=48,new_height=48,ntop=2,\n",
    "                           transform_param=dict(crop_size=40,mirror=True))\n",
    "    conv1=L.Convolution(data, kernel_size=5, stride=1,num_output=16, pad=2,weight_filler=dict(type='xavier'))\n",
    "    relu1=L.ReLU(conv1, in_place=True)\n",
    "    pool1=L.Pooling(relu1, pool=P.Pooling.MAX, kernel_size=3, stride=2)\n",
    "    conv2=L.Convolution(pool1, kernel_size=53, stride=1,num_output=32, pad=1,weight_filler=dict(type='xavier'))\n",
    "    relu2=L.ReLU(conv2, in_place=True)\n",
    "    pool2=L.Pooling(relu2, pool=P.Pooling.MAX, kernel_size=3, stride=2)\n",
    "    conv3=L.Convolution(pool2, kernel_size=53, stride=1,num_output=32, pad=1,weight_filler=dict(type='xavier'))\n",
    "    relu3=L.ReLU(conv3, in_place=True)\n",
    "    pool3=L.Pooling(relu3, pool=P.Pooling.MAX, kernel_size=3, stride=2)\n",
    "    fc4=L.InnerProduct(pool3, num_output=1024,weight_filler=dict(type='xavier'))\n",
    "    relu4=L.ReLU(fc4, in_place=True)\n",
    "    drop4 = L.Dropout(relu4, in_place=True)\n",
    "    fc5 = L.InnerProduct(drop4, num_output=7,weight_filler=dict(type='xavier'))\n",
    "    loss = L.SoftmaxWithLoss(fc5, label)\n",
    "    if include_acc:             \n",
    "        acc = L.Accuracy(fc5, label)\n",
    "        return to_proto(loss, acc)\n",
    "    else:\n",
    "        return to_proto(loss)  \n",
    "def write_net():\n",
    "    #\n",
    "    with open(train_proto, 'w') as f:\n",
    "        f.write(str(create_net(train_list,batch_size=64)))\n",
    "    #    \n",
    "    with open(val_proto, 'w') as f:\n",
    "        f.write(str(create_net(val_list,batch_size=32, include_acc=True)))      \n",
    "if __name__ == '__main__':\n",
    "    write_net()"
   ]
  },
  {
   "cell_type": "code",
   "execution_count": null,
   "metadata": {
    "collapsed": true
   },
   "outputs": [],
   "source": []
  }
 ],
 "metadata": {
  "kernelspec": {
   "display_name": "Python 2",
   "language": "python",
   "name": "python2"
  },
  "language_info": {
   "codemirror_mode": {
    "name": "ipython",
    "version": 2
   },
   "file_extension": ".py",
   "mimetype": "text/x-python",
   "name": "python",
   "nbconvert_exporter": "python",
   "pygments_lexer": "ipython2",
   "version": "2.7.9"
  }
 },
 "nbformat": 4,
 "nbformat_minor": 2
}
